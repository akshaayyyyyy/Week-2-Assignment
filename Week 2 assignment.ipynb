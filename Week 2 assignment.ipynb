{
 "cells": [
  {
   "cell_type": "markdown",
   "id": "bd94d3e7-e3bf-4c5b-a0fe-e320e911c1bc",
   "metadata": {},
   "source": [
    "How do you comment code in Python? What are the different types of comments?"
   ]
  },
  {
   "cell_type": "code",
   "execution_count": 1,
   "id": "901133c2-ff98-4241-9cc2-d730891ac204",
   "metadata": {},
   "outputs": [
    {
     "data": {
      "text/plain": [
       "'\\nmulti\\nline\\ncomment\\n'"
      ]
     },
     "execution_count": 1,
     "metadata": {},
     "output_type": "execute_result"
    }
   ],
   "source": [
    "# comment\n",
    "\n",
    "'''\n",
    "multi\n",
    "line\n",
    "comment\n",
    "'''"
   ]
  },
  {
   "cell_type": "markdown",
   "id": "f7b79079-1225-43ef-af53-4dcad92a0ff1",
   "metadata": {},
   "source": [
    "What are variables in Python? How do you declare and assign values to variables?"
   ]
  },
  {
   "cell_type": "markdown",
   "id": "50bf1f95-a214-4e1a-80da-551313264c54",
   "metadata": {},
   "source": [
    "In Python, variables are used to store and manipulate data. A variable is essentially a named location in the computer's memory where a value can be stored. It allows you to refer to the stored value by its assigned name."
   ]
  },
  {
   "cell_type": "code",
   "execution_count": 3,
   "id": "8b8d0547-fb7c-459f-bab3-dc6eee77db3e",
   "metadata": {},
   "outputs": [],
   "source": [
    "age = 25\n",
    "name = \"Tushar Soni\"\n",
    "pi = 3.14\n",
    "is_pw_student = True"
   ]
  },
  {
   "cell_type": "markdown",
   "id": "91d2694a-3b4b-4378-9dcb-9707d341b410",
   "metadata": {},
   "source": [
    "How do you convert one data type to another in Python?"
   ]
  },
  {
   "cell_type": "code",
   "execution_count": 4,
   "id": "d9448f74-cd4f-495d-a50a-88c697a6b408",
   "metadata": {},
   "outputs": [],
   "source": [
    "num = int(\"10\")  # Converts the string \"10\" to the integer 10\n",
    "num = float(\"3.14\")  # Converts the string \"3.14\" to the float 3.14\n",
    "text = str(42)  # Converts the integer 42 to the string \"42\"\n",
    "is_true = bool(1)  # Converts the integer 1 to the boolean True\n",
    "numbers = list((1, 2, 3))  # Converts the tuple (1, 2, 3) to the list [1, 2, 3]\n",
    "items = tuple([1, 2, 3])  # Converts the list [1, 2, 3] to the tuple (1, 2, 3)\n",
    "unique_numbers = set([1, 2, 3, 2, 1])  # Converts the list to a set {1, 2, 3}\n",
    "person = dict(name=\"John\", age=30)  # Converts the key-value pairs to a dictionary {'name': 'John', 'age': 30}"
   ]
  },
  {
   "cell_type": "markdown",
   "id": "78121611-af0a-4103-a86c-55907193b569",
   "metadata": {},
   "source": [
    "How do you write and execute a Python script from the command line?\n",
    "\n",
    "To write and execute a Python script from the command line, follow these steps:\n",
    "\n",
    "Open a text editor and create a new file. Save it with a .py extension, which is the convention for Python scripts. For example, I can save the file as script.py.\n",
    "\n",
    "Write your Python code in the file using the text editor. For example, you can write a simple \"Hello, World!\"."
   ]
  },
  {
   "cell_type": "code",
   "execution_count": 5,
   "id": "eaf43689-1850-4ce2-8a17-3cdf311d5994",
   "metadata": {},
   "outputs": [
    {
     "name": "stdout",
     "output_type": "stream",
     "text": [
      "Hello World!!\n"
     ]
    }
   ],
   "source": [
    "print(\"Hello World!!\")"
   ]
  },
  {
   "cell_type": "markdown",
   "id": "7d1f948a-8f81-4f45-9f02-c3af38635444",
   "metadata": {},
   "source": [
    "Given a list my_list = [1, 2, 3, 4, 5], write the code to slice the list and obtain the sub-list [2, 3]"
   ]
  },
  {
   "cell_type": "code",
   "execution_count": 6,
   "id": "1ce368da-3cd0-411a-9e6a-ae55a143f54d",
   "metadata": {},
   "outputs": [
    {
     "name": "stdout",
     "output_type": "stream",
     "text": [
      "[2, 3]\n"
     ]
    }
   ],
   "source": [
    "my_list = [1, 2, 3, 4, 5]\n",
    "print(my_list[1:3])"
   ]
  },
  {
   "cell_type": "markdown",
   "id": "deb87d19-8b2f-438c-bc00-203352ddfb35",
   "metadata": {},
   "source": [
    "What is a complex number in mathematics, and how is it represented in Python?\n",
    "\n",
    "In mathematics, a complex number is a number that can be expressed in the form a + bi, where a and b are real numbers, and i is the imaginary unit defined as the square root of -1. The real part a represents the real number component, and the imaginary part b represents the imaginary number component."
   ]
  },
  {
   "cell_type": "code",
   "execution_count": 7,
   "id": "d9174405-1e52-4bb4-8a52-a0c801f25d61",
   "metadata": {},
   "outputs": [],
   "source": [
    "z = 2 + 3j #complex number in python, where 2 is real part and 3j is imaginary part."
   ]
  },
  {
   "cell_type": "markdown",
   "id": "ec17c96e-7771-48e2-b080-eae3819f564b",
   "metadata": {},
   "source": [
    "What is the correct way to declare a variable named age and assign the value 25 to it?"
   ]
  },
  {
   "cell_type": "code",
   "execution_count": 8,
   "id": "d00b8731-e3fc-4213-b460-750c937d9b3b",
   "metadata": {},
   "outputs": [],
   "source": [
    "age = 25"
   ]
  },
  {
   "cell_type": "markdown",
   "id": "a50fce56-47fe-44a9-93c3-3efb1fc27ef4",
   "metadata": {},
   "source": [
    "Declare a variable named price and assign the value 9.99 to it. What data type does this variable belong to?"
   ]
  },
  {
   "cell_type": "code",
   "execution_count": 12,
   "id": "cd29d1ea-ce43-4b33-bd50-7fe5381587bd",
   "metadata": {},
   "outputs": [
    {
     "name": "stdout",
     "output_type": "stream",
     "text": [
      "<class 'float'>\n"
     ]
    }
   ],
   "source": [
    "price = 9.99\n",
    "print(type(price))"
   ]
  },
  {
   "cell_type": "markdown",
   "id": "f0772e36-f860-41b4-8e61-92562e7def31",
   "metadata": {},
   "source": [
    "Create a variable named name and assign your full name to it as a string. How would you print the value of this variable?"
   ]
  },
  {
   "cell_type": "code",
   "execution_count": 13,
   "id": "fb660602-7573-4b3e-91d2-1db7d1f016d4",
   "metadata": {},
   "outputs": [
    {
     "name": "stdout",
     "output_type": "stream",
     "text": [
      "akshay poojary\n"
     ]
    }
   ],
   "source": [
    "name = \"akshay poojary\"\n",
    "print(name)"
   ]
  },
  {
   "cell_type": "markdown",
   "id": "36692093-db01-41af-88e2-29bf59e111a7",
   "metadata": {},
   "source": [
    "Given the string \"Hello, World!\", extract the substring \"World\"."
   ]
  },
  {
   "cell_type": "code",
   "execution_count": 14,
   "id": "f4ea4b8b-9641-4153-81a8-febe662cfe47",
   "metadata": {},
   "outputs": [
    {
     "name": "stdout",
     "output_type": "stream",
     "text": [
      "World\n"
     ]
    }
   ],
   "source": [
    "string = \"Hello, World!\"\n",
    "print(string[7:12])"
   ]
  },
  {
   "cell_type": "markdown",
   "id": "273e0eb9-5d89-4347-aafa-9c640c82baf1",
   "metadata": {},
   "source": [
    "Create a variable named \"is_student\" and assign it a boolean value indicating whether you are currently a student or not."
   ]
  },
  {
   "cell_type": "code",
   "execution_count": 15,
   "id": "cf2f3b8f-6b14-4561-ba75-d11a6102be83",
   "metadata": {},
   "outputs": [
    {
     "name": "stdout",
     "output_type": "stream",
     "text": [
      "You are a student with us !\n"
     ]
    }
   ],
   "source": [
    "is_student = True\n",
    "\n",
    "if (is_student):\n",
    "    print(\"You are a student with us !\")\n",
    "else:\n",
    "    print(\"You are not a student with us till now, Subscribe to become one :)\")"
   ]
  },
  {
   "cell_type": "code",
   "execution_count": null,
   "id": "d36facfc-d877-42da-b95c-cb5e4947557d",
   "metadata": {},
   "outputs": [],
   "source": []
  }
 ],
 "metadata": {
  "kernelspec": {
   "display_name": "Python 3 (ipykernel)",
   "language": "python",
   "name": "python3"
  },
  "language_info": {
   "codemirror_mode": {
    "name": "ipython",
    "version": 3
   },
   "file_extension": ".py",
   "mimetype": "text/x-python",
   "name": "python",
   "nbconvert_exporter": "python",
   "pygments_lexer": "ipython3",
   "version": "3.10.8"
  }
 },
 "nbformat": 4,
 "nbformat_minor": 5
}
